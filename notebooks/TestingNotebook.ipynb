{
 "cells": [
  {
   "cell_type": "code",
   "execution_count": 1,
   "metadata": {
    "collapsed": true,
    "pycharm": {
     "name": "#%%\n"
    }
   },
   "outputs": [],
   "source": [
    "import pandas as pd"
   ]
  },
  {
   "cell_type": "code",
   "execution_count": 2,
   "outputs": [],
   "source": [
    "df=pd.read_csv('../data/03_primary/y_train.csv')"
   ],
   "metadata": {
    "collapsed": false,
    "pycharm": {
     "name": "#%%\n"
    }
   }
  },
  {
   "cell_type": "code",
   "execution_count": 3,
   "outputs": [
    {
     "data": {
      "text/plain": "     diagnosis\n0          1.0\n1          0.0\n2          0.0\n3          1.0\n4          0.0\n..         ...\n512        0.0\n513        1.0\n514        0.0\n515        0.0\n516        0.0\n\n[517 rows x 1 columns]",
      "text/html": "<div>\n<style scoped>\n    .dataframe tbody tr th:only-of-type {\n        vertical-align: middle;\n    }\n\n    .dataframe tbody tr th {\n        vertical-align: top;\n    }\n\n    .dataframe thead th {\n        text-align: right;\n    }\n</style>\n<table border=\"1\" class=\"dataframe\">\n  <thead>\n    <tr style=\"text-align: right;\">\n      <th></th>\n      <th>diagnosis</th>\n    </tr>\n  </thead>\n  <tbody>\n    <tr>\n      <th>0</th>\n      <td>1.0</td>\n    </tr>\n    <tr>\n      <th>1</th>\n      <td>0.0</td>\n    </tr>\n    <tr>\n      <th>2</th>\n      <td>0.0</td>\n    </tr>\n    <tr>\n      <th>3</th>\n      <td>1.0</td>\n    </tr>\n    <tr>\n      <th>4</th>\n      <td>0.0</td>\n    </tr>\n    <tr>\n      <th>...</th>\n      <td>...</td>\n    </tr>\n    <tr>\n      <th>512</th>\n      <td>0.0</td>\n    </tr>\n    <tr>\n      <th>513</th>\n      <td>1.0</td>\n    </tr>\n    <tr>\n      <th>514</th>\n      <td>0.0</td>\n    </tr>\n    <tr>\n      <th>515</th>\n      <td>0.0</td>\n    </tr>\n    <tr>\n      <th>516</th>\n      <td>0.0</td>\n    </tr>\n  </tbody>\n</table>\n<p>517 rows × 1 columns</p>\n</div>"
     },
     "execution_count": 3,
     "metadata": {},
     "output_type": "execute_result"
    }
   ],
   "source": [
    "df"
   ],
   "metadata": {
    "collapsed": false,
    "pycharm": {
     "name": "#%%\n"
    }
   }
  },
  {
   "cell_type": "code",
   "execution_count": 1,
   "outputs": [
    {
     "ename": "FileNotFoundError",
     "evalue": "[Errno 2] No such file or directory: 'file.pkl'",
     "output_type": "error",
     "traceback": [
      "\u001B[1;31m---------------------------------------------------------------------------\u001B[0m",
      "\u001B[1;31mFileNotFoundError\u001B[0m                         Traceback (most recent call last)",
      "\u001B[1;32m~\\AppData\\Local\\Temp\\ipykernel_8020\\3352457945.py\u001B[0m in \u001B[0;36m<cell line: 3>\u001B[1;34m()\u001B[0m\n\u001B[0;32m      1\u001B[0m \u001B[1;32mimport\u001B[0m \u001B[0mpickle\u001B[0m \u001B[1;32mas\u001B[0m \u001B[0mpkl\u001B[0m\u001B[1;33m\u001B[0m\u001B[1;33m\u001B[0m\u001B[0m\n\u001B[0;32m      2\u001B[0m \u001B[1;32mimport\u001B[0m \u001B[0mpandas\u001B[0m \u001B[1;32mas\u001B[0m \u001B[0mpd\u001B[0m\u001B[1;33m\u001B[0m\u001B[1;33m\u001B[0m\u001B[0m\n\u001B[1;32m----> 3\u001B[1;33m \u001B[1;32mwith\u001B[0m \u001B[0mopen\u001B[0m\u001B[1;33m(\u001B[0m\u001B[1;34m\"file.pkl\"\u001B[0m\u001B[1;33m,\u001B[0m \u001B[1;34m\"rb\"\u001B[0m\u001B[1;33m)\u001B[0m \u001B[1;32mas\u001B[0m \u001B[0mf\u001B[0m\u001B[1;33m:\u001B[0m\u001B[1;33m\u001B[0m\u001B[1;33m\u001B[0m\u001B[0m\n\u001B[0m\u001B[0;32m      4\u001B[0m     \u001B[0mobject\u001B[0m \u001B[1;33m=\u001B[0m \u001B[0mpkl\u001B[0m\u001B[1;33m.\u001B[0m\u001B[0mload\u001B[0m\u001B[1;33m(\u001B[0m\u001B[0mf\u001B[0m\u001B[1;33m)\u001B[0m\u001B[1;33m\u001B[0m\u001B[1;33m\u001B[0m\u001B[0m\n\u001B[0;32m      5\u001B[0m \u001B[1;33m\u001B[0m\u001B[0m\n",
      "\u001B[1;31mFileNotFoundError\u001B[0m: [Errno 2] No such file or directory: 'file.pkl'"
     ]
    }
   ],
   "source": [
    "import pickle as pkl\n",
    "import pandas as pd\n",
    "with open(\"file.pkl\", \"rb\") as f:\n",
    "    object = pkl.load(f)\n",
    "\n",
    "df = pd.DataFrame()\n",
    "df.to_csv(r'file.csv')"
   ],
   "metadata": {
    "collapsed": false,
    "pycharm": {
     "name": "#%%\n"
    }
   }
  },
  {
   "cell_type": "code",
   "execution_count": 2,
   "outputs": [],
   "source": [
    "unpickled_df = pd.read_pickle(\"../data/05_model_input/x_train_model_input.pkl\")"
   ],
   "metadata": {
    "collapsed": false,
    "pycharm": {
     "name": "#%%\n"
    }
   }
  },
  {
   "cell_type": "code",
   "execution_count": 3,
   "outputs": [
    {
     "data": {
      "text/plain": "array([[-0.18324748, -0.19578188, -0.14001458, ..., -0.02699963,\n        -0.04769068, -0.07843385],\n       [-0.18197968, -0.19625275, -0.14057294, ...,  1.67806521,\n        -0.04076743, -0.08082807],\n       [-0.18188216, -0.19504897, -0.1403382 , ...,  1.46063754,\n        -0.03758472, -0.0836364 ],\n       ...,\n       [-0.1703013 , -0.19465162, -0.14117636, ...,  0.34778192,\n        -0.05412156, -0.08876033],\n       [-0.16984416, -0.19328275, -0.13983368, ..., -0.9685902 ,\n        -0.04446549, -0.08354467],\n       [-0.1697954 , -0.19514325, -0.1393085 , ...,  0.75341312,\n        -0.04052019, -0.08887827]])"
     },
     "execution_count": 3,
     "metadata": {},
     "output_type": "execute_result"
    }
   ],
   "source": [
    "unpickled_df"
   ],
   "metadata": {
    "collapsed": false,
    "pycharm": {
     "name": "#%%\n"
    }
   }
  },
  {
   "cell_type": "code",
   "execution_count": 4,
   "outputs": [],
   "source": [
    "unpickled_df = pd.read_pickle(\"../data/07_model_output/x_test_transformed.pkl\")"
   ],
   "metadata": {
    "collapsed": false,
    "pycharm": {
     "name": "#%%\n"
    }
   }
  },
  {
   "cell_type": "code",
   "execution_count": 8,
   "outputs": [
    {
     "data": {
      "text/plain": "     radius_worst  concavity_worst  fractal_dimension_worst  texture_worst  \\\n0       -0.171016        -0.274531                -0.168358      -0.284383   \n1       -0.173316        -0.276308                -0.166533      -1.752007   \n2       -0.170755        -0.274437                -0.167178       1.525999   \n3       -0.175407        -0.275038                -0.168504      -0.451087   \n4       -0.175637        -0.276965                -0.169749      -1.234755   \n..            ...              ...                      ...            ...   \n125     -0.174781        -0.273144                -0.166868      -0.916926   \n126     -0.166023        -0.273968                -0.168722       0.202644   \n127     -0.175078        -0.277177                -0.169658      -0.639604   \n128     -0.171555        -0.275220                -0.168554       1.122480   \n129     -0.172331        -0.273571                -0.165817      -0.662974   \n\n     smoothness_worst  symmetry_worst  perimeter_se  smoothness_se   area_se  \\\n0           -0.252303       -0.236274     -0.124425      -0.645774 -0.139622   \n1           -0.252631       -0.237278      0.491572      -0.352120 -0.146886   \n2           -0.252018       -0.234825      0.700063      -0.504696 -0.130869   \n3           -0.252259       -0.236437     -0.686720      -0.067239 -0.158017   \n4           -0.252212       -0.236146      1.030490       0.186700 -0.126133   \n..                ...             ...           ...            ...       ...   \n125         -0.252719       -0.236313      1.651542       0.088361 -0.142673   \n126         -0.252077       -0.236776      1.473376      -0.414004 -0.124735   \n127         -0.253283       -0.237647     -1.509206      -0.765808 -0.156890   \n128         -0.252818       -0.236842      0.266148       0.230149 -0.142748   \n129         -0.251094       -0.235889      1.055762       0.952606 -0.116714   \n\n     texture_se  fractal_dimension_se  symmetry_se  \n0     -1.112519             -0.502608    -0.098064  \n1     -1.112526             -0.442379    -0.090851  \n2      0.306651             -0.298811    -0.095712  \n3     -1.112647             -0.365845    -0.096864  \n4      2.104573             -0.287022    -0.089990  \n..          ...                   ...          ...  \n125    0.580339             -0.427422    -0.086506  \n126    0.740341             -0.538315    -0.098454  \n127    2.173346             -0.699668    -0.090034  \n128    0.395073              0.012779    -0.098542  \n129    0.372617             -0.181923    -0.094983  \n\n[130 rows x 12 columns]",
      "text/html": "<div>\n<style scoped>\n    .dataframe tbody tr th:only-of-type {\n        vertical-align: middle;\n    }\n\n    .dataframe tbody tr th {\n        vertical-align: top;\n    }\n\n    .dataframe thead th {\n        text-align: right;\n    }\n</style>\n<table border=\"1\" class=\"dataframe\">\n  <thead>\n    <tr style=\"text-align: right;\">\n      <th></th>\n      <th>radius_worst</th>\n      <th>concavity_worst</th>\n      <th>fractal_dimension_worst</th>\n      <th>texture_worst</th>\n      <th>smoothness_worst</th>\n      <th>symmetry_worst</th>\n      <th>perimeter_se</th>\n      <th>smoothness_se</th>\n      <th>area_se</th>\n      <th>texture_se</th>\n      <th>fractal_dimension_se</th>\n      <th>symmetry_se</th>\n    </tr>\n  </thead>\n  <tbody>\n    <tr>\n      <th>0</th>\n      <td>-0.171016</td>\n      <td>-0.274531</td>\n      <td>-0.168358</td>\n      <td>-0.284383</td>\n      <td>-0.252303</td>\n      <td>-0.236274</td>\n      <td>-0.124425</td>\n      <td>-0.645774</td>\n      <td>-0.139622</td>\n      <td>-1.112519</td>\n      <td>-0.502608</td>\n      <td>-0.098064</td>\n    </tr>\n    <tr>\n      <th>1</th>\n      <td>-0.173316</td>\n      <td>-0.276308</td>\n      <td>-0.166533</td>\n      <td>-1.752007</td>\n      <td>-0.252631</td>\n      <td>-0.237278</td>\n      <td>0.491572</td>\n      <td>-0.352120</td>\n      <td>-0.146886</td>\n      <td>-1.112526</td>\n      <td>-0.442379</td>\n      <td>-0.090851</td>\n    </tr>\n    <tr>\n      <th>2</th>\n      <td>-0.170755</td>\n      <td>-0.274437</td>\n      <td>-0.167178</td>\n      <td>1.525999</td>\n      <td>-0.252018</td>\n      <td>-0.234825</td>\n      <td>0.700063</td>\n      <td>-0.504696</td>\n      <td>-0.130869</td>\n      <td>0.306651</td>\n      <td>-0.298811</td>\n      <td>-0.095712</td>\n    </tr>\n    <tr>\n      <th>3</th>\n      <td>-0.175407</td>\n      <td>-0.275038</td>\n      <td>-0.168504</td>\n      <td>-0.451087</td>\n      <td>-0.252259</td>\n      <td>-0.236437</td>\n      <td>-0.686720</td>\n      <td>-0.067239</td>\n      <td>-0.158017</td>\n      <td>-1.112647</td>\n      <td>-0.365845</td>\n      <td>-0.096864</td>\n    </tr>\n    <tr>\n      <th>4</th>\n      <td>-0.175637</td>\n      <td>-0.276965</td>\n      <td>-0.169749</td>\n      <td>-1.234755</td>\n      <td>-0.252212</td>\n      <td>-0.236146</td>\n      <td>1.030490</td>\n      <td>0.186700</td>\n      <td>-0.126133</td>\n      <td>2.104573</td>\n      <td>-0.287022</td>\n      <td>-0.089990</td>\n    </tr>\n    <tr>\n      <th>...</th>\n      <td>...</td>\n      <td>...</td>\n      <td>...</td>\n      <td>...</td>\n      <td>...</td>\n      <td>...</td>\n      <td>...</td>\n      <td>...</td>\n      <td>...</td>\n      <td>...</td>\n      <td>...</td>\n      <td>...</td>\n    </tr>\n    <tr>\n      <th>125</th>\n      <td>-0.174781</td>\n      <td>-0.273144</td>\n      <td>-0.166868</td>\n      <td>-0.916926</td>\n      <td>-0.252719</td>\n      <td>-0.236313</td>\n      <td>1.651542</td>\n      <td>0.088361</td>\n      <td>-0.142673</td>\n      <td>0.580339</td>\n      <td>-0.427422</td>\n      <td>-0.086506</td>\n    </tr>\n    <tr>\n      <th>126</th>\n      <td>-0.166023</td>\n      <td>-0.273968</td>\n      <td>-0.168722</td>\n      <td>0.202644</td>\n      <td>-0.252077</td>\n      <td>-0.236776</td>\n      <td>1.473376</td>\n      <td>-0.414004</td>\n      <td>-0.124735</td>\n      <td>0.740341</td>\n      <td>-0.538315</td>\n      <td>-0.098454</td>\n    </tr>\n    <tr>\n      <th>127</th>\n      <td>-0.175078</td>\n      <td>-0.277177</td>\n      <td>-0.169658</td>\n      <td>-0.639604</td>\n      <td>-0.253283</td>\n      <td>-0.237647</td>\n      <td>-1.509206</td>\n      <td>-0.765808</td>\n      <td>-0.156890</td>\n      <td>2.173346</td>\n      <td>-0.699668</td>\n      <td>-0.090034</td>\n    </tr>\n    <tr>\n      <th>128</th>\n      <td>-0.171555</td>\n      <td>-0.275220</td>\n      <td>-0.168554</td>\n      <td>1.122480</td>\n      <td>-0.252818</td>\n      <td>-0.236842</td>\n      <td>0.266148</td>\n      <td>0.230149</td>\n      <td>-0.142748</td>\n      <td>0.395073</td>\n      <td>0.012779</td>\n      <td>-0.098542</td>\n    </tr>\n    <tr>\n      <th>129</th>\n      <td>-0.172331</td>\n      <td>-0.273571</td>\n      <td>-0.165817</td>\n      <td>-0.662974</td>\n      <td>-0.251094</td>\n      <td>-0.235889</td>\n      <td>1.055762</td>\n      <td>0.952606</td>\n      <td>-0.116714</td>\n      <td>0.372617</td>\n      <td>-0.181923</td>\n      <td>-0.094983</td>\n    </tr>\n  </tbody>\n</table>\n<p>130 rows × 12 columns</p>\n</div>"
     },
     "execution_count": 8,
     "metadata": {},
     "output_type": "execute_result"
    }
   ],
   "source": [
    "unpickled_df"
   ],
   "metadata": {
    "collapsed": false,
    "pycharm": {
     "name": "#%%\n"
    }
   }
  },
  {
   "cell_type": "code",
   "execution_count": null,
   "outputs": [],
   "source": [],
   "metadata": {
    "collapsed": false,
    "pycharm": {
     "name": "#%%\n"
    }
   }
  }
 ],
 "metadata": {
  "kernelspec": {
   "display_name": "Python 3",
   "language": "python",
   "name": "python3"
  },
  "language_info": {
   "codemirror_mode": {
    "name": "ipython",
    "version": 2
   },
   "file_extension": ".py",
   "mimetype": "text/x-python",
   "name": "python",
   "nbconvert_exporter": "python",
   "pygments_lexer": "ipython2",
   "version": "2.7.6"
  }
 },
 "nbformat": 4,
 "nbformat_minor": 0
}